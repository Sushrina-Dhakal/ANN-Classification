{
 "cells": [
  {
   "cell_type": "code",
   "execution_count": 2,
   "id": "2ececb4d",
   "metadata": {},
   "outputs": [],
   "source": [
    "import tensorflow as tf\n",
    "import numpy as np\n",
    "from tensorflow.keras.datasets import imdb\n",
    "from tensorflow.keras.preprocessing import sequence\n",
    "from tensorflow.keras.models import load_model"
   ]
  },
  {
   "cell_type": "code",
   "execution_count": 3,
   "id": "ba0bec5d",
   "metadata": {},
   "outputs": [],
   "source": [
    "## Load the IMDB dataset and word index\n",
    "\n",
    "word_index=imdb.get_word_index()\n",
    "reverse_word_index={value:key for key,value in word_index.items()}"
   ]
  },
  {
   "cell_type": "code",
   "execution_count": 4,
   "id": "b78fe3e0",
   "metadata": {},
   "outputs": [
    {
     "name": "stderr",
     "output_type": "stream",
     "text": [
      "WARNING:absl:Compiled the loaded model, but the compiled metrics have yet to be built. `model.compile_metrics` will be empty until you train or evaluate the model.\n"
     ]
    },
    {
     "data": {
      "text/html": [
       "<pre style=\"white-space:pre;overflow-x:auto;line-height:normal;font-family:Menlo,'DejaVu Sans Mono',consolas,'Courier New',monospace\"><span style=\"font-weight: bold\">Model: \"sequential_7\"</span>\n",
       "</pre>\n"
      ],
      "text/plain": [
       "\u001b[1mModel: \"sequential_7\"\u001b[0m\n"
      ]
     },
     "metadata": {},
     "output_type": "display_data"
    },
    {
     "data": {
      "text/html": [
       "<pre style=\"white-space:pre;overflow-x:auto;line-height:normal;font-family:Menlo,'DejaVu Sans Mono',consolas,'Courier New',monospace\">┏━━━━━━━━━━━━━━━━━━━━━━━━━━━━━━━━━┳━━━━━━━━━━━━━━━━━━━━━━━━┳━━━━━━━━━━━━━━━┓\n",
       "┃<span style=\"font-weight: bold\"> Layer (type)                    </span>┃<span style=\"font-weight: bold\"> Output Shape           </span>┃<span style=\"font-weight: bold\">       Param # </span>┃\n",
       "┡━━━━━━━━━━━━━━━━━━━━━━━━━━━━━━━━━╇━━━━━━━━━━━━━━━━━━━━━━━━╇━━━━━━━━━━━━━━━┩\n",
       "│ embedding_9 (<span style=\"color: #0087ff; text-decoration-color: #0087ff\">Embedding</span>)         │ (<span style=\"color: #00d7ff; text-decoration-color: #00d7ff\">None</span>, <span style=\"color: #00af00; text-decoration-color: #00af00\">500</span>, <span style=\"color: #00af00; text-decoration-color: #00af00\">128</span>)       │     <span style=\"color: #00af00; text-decoration-color: #00af00\">1,280,000</span> │\n",
       "├─────────────────────────────────┼────────────────────────┼───────────────┤\n",
       "│ simple_rnn_8 (<span style=\"color: #0087ff; text-decoration-color: #0087ff\">SimpleRNN</span>)        │ (<span style=\"color: #00d7ff; text-decoration-color: #00d7ff\">None</span>, <span style=\"color: #00af00; text-decoration-color: #00af00\">128</span>)            │        <span style=\"color: #00af00; text-decoration-color: #00af00\">32,896</span> │\n",
       "├─────────────────────────────────┼────────────────────────┼───────────────┤\n",
       "│ dense_6 (<span style=\"color: #0087ff; text-decoration-color: #0087ff\">Dense</span>)                 │ (<span style=\"color: #00d7ff; text-decoration-color: #00d7ff\">None</span>, <span style=\"color: #00af00; text-decoration-color: #00af00\">1</span>)              │           <span style=\"color: #00af00; text-decoration-color: #00af00\">129</span> │\n",
       "└─────────────────────────────────┴────────────────────────┴───────────────┘\n",
       "</pre>\n"
      ],
      "text/plain": [
       "┏━━━━━━━━━━━━━━━━━━━━━━━━━━━━━━━━━┳━━━━━━━━━━━━━━━━━━━━━━━━┳━━━━━━━━━━━━━━━┓\n",
       "┃\u001b[1m \u001b[0m\u001b[1mLayer (type)                   \u001b[0m\u001b[1m \u001b[0m┃\u001b[1m \u001b[0m\u001b[1mOutput Shape          \u001b[0m\u001b[1m \u001b[0m┃\u001b[1m \u001b[0m\u001b[1m      Param #\u001b[0m\u001b[1m \u001b[0m┃\n",
       "┡━━━━━━━━━━━━━━━━━━━━━━━━━━━━━━━━━╇━━━━━━━━━━━━━━━━━━━━━━━━╇━━━━━━━━━━━━━━━┩\n",
       "│ embedding_9 (\u001b[38;5;33mEmbedding\u001b[0m)         │ (\u001b[38;5;45mNone\u001b[0m, \u001b[38;5;34m500\u001b[0m, \u001b[38;5;34m128\u001b[0m)       │     \u001b[38;5;34m1,280,000\u001b[0m │\n",
       "├─────────────────────────────────┼────────────────────────┼───────────────┤\n",
       "│ simple_rnn_8 (\u001b[38;5;33mSimpleRNN\u001b[0m)        │ (\u001b[38;5;45mNone\u001b[0m, \u001b[38;5;34m128\u001b[0m)            │        \u001b[38;5;34m32,896\u001b[0m │\n",
       "├─────────────────────────────────┼────────────────────────┼───────────────┤\n",
       "│ dense_6 (\u001b[38;5;33mDense\u001b[0m)                 │ (\u001b[38;5;45mNone\u001b[0m, \u001b[38;5;34m1\u001b[0m)              │           \u001b[38;5;34m129\u001b[0m │\n",
       "└─────────────────────────────────┴────────────────────────┴───────────────┘\n"
      ]
     },
     "metadata": {},
     "output_type": "display_data"
    },
    {
     "data": {
      "text/html": [
       "<pre style=\"white-space:pre;overflow-x:auto;line-height:normal;font-family:Menlo,'DejaVu Sans Mono',consolas,'Courier New',monospace\"><span style=\"font-weight: bold\"> Total params: </span><span style=\"color: #00af00; text-decoration-color: #00af00\">1,313,027</span> (5.01 MB)\n",
       "</pre>\n"
      ],
      "text/plain": [
       "\u001b[1m Total params: \u001b[0m\u001b[38;5;34m1,313,027\u001b[0m (5.01 MB)\n"
      ]
     },
     "metadata": {},
     "output_type": "display_data"
    },
    {
     "data": {
      "text/html": [
       "<pre style=\"white-space:pre;overflow-x:auto;line-height:normal;font-family:Menlo,'DejaVu Sans Mono',consolas,'Courier New',monospace\"><span style=\"font-weight: bold\"> Trainable params: </span><span style=\"color: #00af00; text-decoration-color: #00af00\">1,313,025</span> (5.01 MB)\n",
       "</pre>\n"
      ],
      "text/plain": [
       "\u001b[1m Trainable params: \u001b[0m\u001b[38;5;34m1,313,025\u001b[0m (5.01 MB)\n"
      ]
     },
     "metadata": {},
     "output_type": "display_data"
    },
    {
     "data": {
      "text/html": [
       "<pre style=\"white-space:pre;overflow-x:auto;line-height:normal;font-family:Menlo,'DejaVu Sans Mono',consolas,'Courier New',monospace\"><span style=\"font-weight: bold\"> Non-trainable params: </span><span style=\"color: #00af00; text-decoration-color: #00af00\">0</span> (0.00 B)\n",
       "</pre>\n"
      ],
      "text/plain": [
       "\u001b[1m Non-trainable params: \u001b[0m\u001b[38;5;34m0\u001b[0m (0.00 B)\n"
      ]
     },
     "metadata": {},
     "output_type": "display_data"
    },
    {
     "data": {
      "text/html": [
       "<pre style=\"white-space:pre;overflow-x:auto;line-height:normal;font-family:Menlo,'DejaVu Sans Mono',consolas,'Courier New',monospace\"><span style=\"font-weight: bold\"> Optimizer params: </span><span style=\"color: #00af00; text-decoration-color: #00af00\">2</span> (12.00 B)\n",
       "</pre>\n"
      ],
      "text/plain": [
       "\u001b[1m Optimizer params: \u001b[0m\u001b[38;5;34m2\u001b[0m (12.00 B)\n"
      ]
     },
     "metadata": {},
     "output_type": "display_data"
    }
   ],
   "source": [
    "## Load the pre-trained model with ReLU activation\n",
    "model=load_model('simple_rnn_imdb.h5')\n",
    "model.summary()"
   ]
  },
  {
   "cell_type": "code",
   "execution_count": 6,
   "id": "50b5f7f9",
   "metadata": {},
   "outputs": [
    {
     "data": {
      "text/plain": [
       "[array([[-8.04618597e-01,  8.70614797e-02, -5.54725155e-03, ...,\n",
       "         -1.94880635e-01, -4.63681370e-01,  1.44793257e-01],\n",
       "        [-1.00345416e-02, -5.69058880e-02,  1.48795573e-02, ...,\n",
       "         -4.86415923e-02, -3.56018804e-02,  2.30124407e-02],\n",
       "        [ 3.08575220e-02,  3.01605836e-02, -7.88194612e-02, ...,\n",
       "         -8.85516480e-02, -1.15271591e-01, -3.57524455e-02],\n",
       "        ...,\n",
       "        [ 5.28642461e-02, -1.17640607e-02, -1.08965691e-02, ...,\n",
       "          1.02236435e-01,  7.87697658e-02,  8.38702023e-02],\n",
       "        [-9.60819703e-03,  3.78214270e-02, -2.06345096e-02, ...,\n",
       "          1.36825675e-02, -7.04838410e-02, -1.84893992e-03],\n",
       "        [ 2.72850003e-02, -3.47156171e-03,  5.39283385e-04, ...,\n",
       "         -5.02314642e-02,  2.23076306e-02, -2.16820855e-02]], dtype=float32),\n",
       " array([[-0.0490427 ,  0.07387757,  0.12800625, ..., -0.00677056,\n",
       "          0.12357966, -0.12509847],\n",
       "        [-0.15913668,  0.06874499,  0.15301298, ..., -0.01211502,\n",
       "         -0.11893293, -0.13707249],\n",
       "        [-0.10514192,  0.08020105,  0.14126597, ...,  0.10647752,\n",
       "          0.04345421,  0.11771308],\n",
       "        ...,\n",
       "        [-0.11515748,  0.12706125, -0.12168981, ...,  0.07036564,\n",
       "          0.11917735,  0.10734618],\n",
       "        [-0.0135385 , -0.04234656,  0.06934761, ...,  0.02471678,\n",
       "         -0.08297332, -0.16870268],\n",
       "        [-0.00883035,  0.07236388, -0.14049317, ...,  0.13817766,\n",
       "          0.13303779,  0.0255623 ]], dtype=float32),\n",
       " array([[-0.04482599, -0.11835043, -0.05726986, ..., -0.093583  ,\n",
       "          0.2431318 , -0.09379624],\n",
       "        [-0.02929488, -0.0137662 ,  0.03744929, ...,  0.00862532,\n",
       "          0.16989724,  0.38290092],\n",
       "        [-0.10001568, -0.1021454 , -0.1242866 , ..., -0.06860533,\n",
       "         -0.02924321,  0.08558924],\n",
       "        ...,\n",
       "        [-0.15183248, -0.00383496,  0.08620286, ..., -0.14353336,\n",
       "          0.15217508, -0.06417662],\n",
       "        [ 0.2326168 , -0.003908  , -0.11670084, ...,  0.14757122,\n",
       "          0.09874879, -0.21652427],\n",
       "        [-0.12001606,  0.22874466, -0.0625919 , ..., -0.03401654,\n",
       "         -0.09363141,  0.05998561]], dtype=float32),\n",
       " array([-0.04808449, -0.04308604,  0.0084916 , -0.00672753, -0.04380257,\n",
       "        -0.03747936, -0.01780816,  0.00448106, -0.01678315,  0.05204019,\n",
       "        -0.04894237, -0.01600992,  0.0035624 , -0.05660508, -0.00487355,\n",
       "         0.0490027 , -0.00871291, -0.05275493, -0.04180852,  0.03263414,\n",
       "        -0.00623335,  0.01035356,  0.00598948, -0.0296628 ,  0.00747162,\n",
       "         0.00267405,  0.00849481, -0.03109907, -0.02678593,  0.06260265,\n",
       "        -0.01801093,  0.03233064, -0.00502129, -0.00252728,  0.00082248,\n",
       "         0.02262187, -0.01344454, -0.02297554, -0.0058127 , -0.0024663 ,\n",
       "        -0.02315157, -0.01146224, -0.00059944, -0.00589765, -0.02098328,\n",
       "        -0.00071967,  0.00772348, -0.00140252,  0.01170434,  0.00879134,\n",
       "         0.00963986,  0.0168642 , -0.0228218 ,  0.01732924, -0.02708749,\n",
       "        -0.01027313,  0.01291035, -0.00466772, -0.02818481, -0.00931584,\n",
       "         0.02064865, -0.01990292, -0.04621216, -0.0342745 ,  0.00690862,\n",
       "         0.00260221, -0.02743356, -0.01677827, -0.03856863,  0.04793828,\n",
       "        -0.00131785, -0.02907248, -0.00904132, -0.0167439 , -0.04128098,\n",
       "        -0.03339432, -0.0237507 , -0.02513769,  0.01130213, -0.0197841 ,\n",
       "        -0.03955831, -0.03794168, -0.01248281,  0.04600963, -0.02030111,\n",
       "        -0.00300548, -0.00936298, -0.02646977,  0.05330323, -0.01222124,\n",
       "        -0.00346355,  0.02895218, -0.03742974,  0.01185287, -0.01473104,\n",
       "        -0.01594201, -0.01771006, -0.04149225,  0.02634713, -0.05310455,\n",
       "         0.02100376, -0.02236869, -0.00701254,  0.02694349, -0.04158553,\n",
       "        -0.02470337,  0.00518049, -0.00025263, -0.03466922, -0.05165712,\n",
       "        -0.01958844,  0.01001815, -0.0226987 , -0.0497152 , -0.01082875,\n",
       "         0.02271122, -0.00072638,  0.01367524,  0.01119979,  0.00265246,\n",
       "         0.01313041, -0.00949901, -0.02332757, -0.04318115, -0.02998244,\n",
       "        -0.02270119,  0.00485587, -0.01339061], dtype=float32),\n",
       " array([[ 0.0411636 ],\n",
       "        [-0.5309842 ],\n",
       "        [-0.05683544],\n",
       "        [ 0.1987607 ],\n",
       "        [-0.5212969 ],\n",
       "        [-0.23877299],\n",
       "        [ 0.10225131],\n",
       "        [-0.10024848],\n",
       "        [-0.1214795 ],\n",
       "        [-0.1198245 ],\n",
       "        [ 0.14949648],\n",
       "        [ 0.04682615],\n",
       "        [-0.02382937],\n",
       "        [-0.06787643],\n",
       "        [-0.2489643 ],\n",
       "        [ 0.16428532],\n",
       "        [ 0.23302798],\n",
       "        [-0.16974339],\n",
       "        [ 0.15752515],\n",
       "        [ 0.15779157],\n",
       "        [ 0.098543  ],\n",
       "        [ 0.13467345],\n",
       "        [-0.1274477 ],\n",
       "        [-0.13729398],\n",
       "        [-0.13379864],\n",
       "        [-0.06884975],\n",
       "        [-0.18527521],\n",
       "        [ 0.28611946],\n",
       "        [ 0.08824874],\n",
       "        [ 0.21577865],\n",
       "        [ 0.1333271 ],\n",
       "        [-0.16780387],\n",
       "        [ 0.26139578],\n",
       "        [-0.2125269 ],\n",
       "        [-0.11525843],\n",
       "        [-0.06263046],\n",
       "        [ 0.22610916],\n",
       "        [-0.0679226 ],\n",
       "        [-0.03688096],\n",
       "        [ 0.00882367],\n",
       "        [ 0.22150975],\n",
       "        [-0.23218983],\n",
       "        [ 0.04913577],\n",
       "        [-0.00406713],\n",
       "        [ 0.01341544],\n",
       "        [-0.01527668],\n",
       "        [-0.11061059],\n",
       "        [-0.10244223],\n",
       "        [ 0.07562094],\n",
       "        [-0.03867613],\n",
       "        [ 0.21391377],\n",
       "        [ 0.28591964],\n",
       "        [ 0.00250523],\n",
       "        [ 0.21363904],\n",
       "        [-0.01529679],\n",
       "        [-0.17180012],\n",
       "        [-0.15708639],\n",
       "        [-0.12759964],\n",
       "        [ 0.09253222],\n",
       "        [ 0.1935256 ],\n",
       "        [ 0.16347465],\n",
       "        [ 0.17063105],\n",
       "        [-0.22585945],\n",
       "        [ 0.09759338],\n",
       "        [-0.01154258],\n",
       "        [-0.01836547],\n",
       "        [ 0.15928918],\n",
       "        [ 0.19160551],\n",
       "        [-0.1344533 ],\n",
       "        [ 0.07630441],\n",
       "        [-0.09568139],\n",
       "        [ 0.00457332],\n",
       "        [ 0.26001912],\n",
       "        [ 0.13888068],\n",
       "        [ 0.1440088 ],\n",
       "        [ 0.21942328],\n",
       "        [-0.14738214],\n",
       "        [-0.11539003],\n",
       "        [ 0.17514576],\n",
       "        [-0.06742694],\n",
       "        [-0.10619512],\n",
       "        [ 0.12118303],\n",
       "        [-0.01776649],\n",
       "        [-0.41036034],\n",
       "        [ 0.11675968],\n",
       "        [-0.1567513 ],\n",
       "        [ 0.20322078],\n",
       "        [ 0.11171263],\n",
       "        [-0.5651663 ],\n",
       "        [ 0.2227743 ],\n",
       "        [ 0.07775901],\n",
       "        [ 0.2816105 ],\n",
       "        [-0.00568275],\n",
       "        [-0.1385663 ],\n",
       "        [-0.09336191],\n",
       "        [ 0.09046563],\n",
       "        [ 0.08852351],\n",
       "        [-0.20510715],\n",
       "        [-0.00876027],\n",
       "        [-0.18126944],\n",
       "        [-0.08201697],\n",
       "        [ 0.16106592],\n",
       "        [-0.08996429],\n",
       "        [-0.16125524],\n",
       "        [ 0.10468985],\n",
       "        [-0.0011416 ],\n",
       "        [ 0.04633751],\n",
       "        [ 0.1405869 ],\n",
       "        [ 0.18905954],\n",
       "        [-0.1345655 ],\n",
       "        [ 0.13536055],\n",
       "        [ 0.16004957],\n",
       "        [ 0.04526441],\n",
       "        [-0.05321792],\n",
       "        [ 0.16290078],\n",
       "        [-0.08729283],\n",
       "        [-0.09464701],\n",
       "        [-0.11905885],\n",
       "        [-0.09237328],\n",
       "        [ 0.04463433],\n",
       "        [-0.07694014],\n",
       "        [ 0.1927228 ],\n",
       "        [-0.09707903],\n",
       "        [-0.02678517],\n",
       "        [ 0.09754832],\n",
       "        [ 0.18028495],\n",
       "        [ 0.08777217],\n",
       "        [-0.5720851 ]], dtype=float32),\n",
       " array([0.05994395], dtype=float32)]"
      ]
     },
     "execution_count": 6,
     "metadata": {},
     "output_type": "execute_result"
    }
   ],
   "source": [
    "model.get_weights()"
   ]
  },
  {
   "cell_type": "code",
   "execution_count": 7,
   "id": "e6489399",
   "metadata": {},
   "outputs": [],
   "source": [
    "# step 2: Helper Functions\n",
    "# Function to decode reviews\n",
    "def decode_review(encoded_review):\n",
    "    return ' '.join([reverse_word_index.get(i-3,'?') for i in encoded_review])\n",
    "\n",
    "# Fucntion to preprocess user input\n",
    "\n",
    "def preprocess_text(text):\n",
    "    words=text.lower().split()\n",
    "    encoded_review=[ word_index.get(word,2)+3 for word in words]\n",
    "    padded_review=sequence.pad_sequences([encoded_review],maxlen=500)\n",
    "    return padded_review"
   ]
  },
  {
   "cell_type": "code",
   "execution_count": 11,
   "id": "09b45069",
   "metadata": {},
   "outputs": [],
   "source": [
    "## Prediction function\n",
    "\n",
    "def predict_sentiment(review):\n",
    "\n",
    "    preprocessed_input=preprocess_text(review)\n",
    "    prediction=model.predict(preprocessed_input)\n",
    "    sentiment= 'positive' if prediction[0][0]>0.5 else 'Negative'\n",
    "    return sentiment,prediction[0][0]"
   ]
  },
  {
   "cell_type": "code",
   "execution_count": 21,
   "id": "e03bb1b0",
   "metadata": {},
   "outputs": [
    {
     "name": "stdout",
     "output_type": "stream",
     "text": [
      "\u001b[1m1/1\u001b[0m \u001b[32m━━━━━━━━━━━━━━━━━━━━\u001b[0m\u001b[37m\u001b[0m \u001b[1m0s\u001b[0m 23ms/step\n"
     ]
    }
   ],
   "source": [
    "## User Input and Prediction\n",
    "# Example review for prediction\n",
    "\n",
    "example_review=\"This movie was fantastic! I loved the plot and the acting was superb.\"\n",
    "sentiment,score=predict_sentiment(example_review)"
   ]
  },
  {
   "cell_type": "code",
   "execution_count": 22,
   "id": "f78e0b96",
   "metadata": {},
   "outputs": [
    {
     "name": "stdout",
     "output_type": "stream",
     "text": [
      "Review: This movie was fantastic! I loved the plot and the acting was superb.\n",
      "Sentiment: positive\n",
      "Prediction Score: 0.7821801900863647\n"
     ]
    }
   ],
   "source": [
    "print(f\"Review: {example_review}\")\n",
    "print(f\"Sentiment: {sentiment}\")\n",
    "print(f\"Prediction Score: {score}\")"
   ]
  },
  {
   "cell_type": "code",
   "execution_count": null,
   "id": "42aaf4da",
   "metadata": {},
   "outputs": [],
   "source": []
  }
 ],
 "metadata": {
  "kernelspec": {
   "display_name": "venv",
   "language": "python",
   "name": "python3"
  },
  "language_info": {
   "codemirror_mode": {
    "name": "ipython",
    "version": 3
   },
   "file_extension": ".py",
   "mimetype": "text/x-python",
   "name": "python",
   "nbconvert_exporter": "python",
   "pygments_lexer": "ipython3",
   "version": "3.10.13"
  }
 },
 "nbformat": 4,
 "nbformat_minor": 5
}
